{
 "cells": [
  {
   "cell_type": "markdown",
   "id": "06137816-b327-4200-bfcc-e0a1a2694d1b",
   "metadata": {},
   "source": [
    "### Importing required libraries"
   ]
  },
  {
   "cell_type": "code",
   "execution_count": 1,
   "id": "0d834522-fb82-48b2-be87-5c1167193345",
   "metadata": {
    "tags": []
   },
   "outputs": [],
   "source": [
    "from pyspark.sql import SparkSession\n",
    "from pyspark.sql.functions import *\n",
    "from pyspark.sql.types import StructType, StructField, StringType, IntegerType, DoubleType"
   ]
  },
  {
   "cell_type": "code",
   "execution_count": 2,
   "id": "516e8db0-682a-45bb-9e08-650545446177",
   "metadata": {
    "tags": []
   },
   "outputs": [],
   "source": [
    "\n",
    "scSpark = SparkSession.builder.appName(\"Spark Assignment 1\").getOrCreate()"
   ]
  },
  {
   "cell_type": "markdown",
   "id": "d95aa5c7-b2cc-4291-9066-14804a0bb86d",
   "metadata": {},
   "source": [
    "### Defining schema and loading titanic dataset in a dataframe, also giving header"
   ]
  },
  {
   "cell_type": "code",
   "execution_count": 3,
   "id": "4689fd53-2166-4f19-a852-99477d16b029",
   "metadata": {
    "tags": []
   },
   "outputs": [
    {
     "data": {
      "text/plain": [
       "DataFrame[PassengerId: int, Survived: int, Pclass: int, Name: string, Sex: string, Age: double, SibSp: int, Parch: int, Ticket: string, Fare: double, Cabin: string, Embarked: string, Timestamp: string]"
      ]
     },
     "execution_count": 3,
     "metadata": {},
     "output_type": "execute_result"
    }
   ],
   "source": [
    "file = 'titanic.csv'\n",
    "header = StructType([\n",
    "    StructField(\"PassengerId\", IntegerType(), nullable=True),\n",
    "    StructField(\"Survived\", IntegerType(), nullable=True),\n",
    "    StructField(\"Pclass\", IntegerType(), nullable=True),\n",
    "    StructField(\"Name\", StringType(), nullable=True),\n",
    "    StructField(\"Sex\", StringType(), nullable=True),\n",
    "    StructField(\"Age\", DoubleType(), nullable=True),\n",
    "    StructField(\"SibSp\", IntegerType(), nullable=True),\n",
    "    StructField(\"Parch\", IntegerType(), nullable=True),\n",
    "    StructField(\"Ticket\", StringType(), nullable=True),\n",
    "    StructField(\"Fare\", DoubleType(), nullable=True),\n",
    "    StructField(\"Cabin\", StringType(), nullable=True),\n",
    "    StructField(\"Embarked\", StringType(), nullable=True),\n",
    "    StructField(\"Timestamp\", StringType(), nullable=True)\n",
    "])\n",
    "df_titanic = scSpark.read.csv(file, header= True, schema=header,inferSchema=True)\n",
    "\n",
    "df_titanic"
   ]
  },
  {
   "cell_type": "code",
   "execution_count": 4,
   "id": "a66a77d6-463b-4da6-a518-dc298ace5aa3",
   "metadata": {
    "tags": []
   },
   "outputs": [
    {
     "name": "stdout",
     "output_type": "stream",
     "text": [
      "+-----------+--------+------+--------------------+------+----+-----+-----+----------------+-------+-----+--------+-------------------+\n",
      "|PassengerId|Survived|Pclass|                Name|   Sex| Age|SibSp|Parch|          Ticket|   Fare|Cabin|Embarked|          Timestamp|\n",
      "+-----------+--------+------+--------------------+------+----+-----+-----+----------------+-------+-----+--------+-------------------+\n",
      "|          2|       1|     1|Cumings, Mrs. Joh...|female|38.0|    1|    0|        PC 17599|71.2833|  C85|       C|2020-01-01 13:44:48|\n",
      "|          3|       1|     3|Heikkinen, Miss. ...|female|26.0|    0|    0|STON/O2. 3101282|  7.925| null|       S|2020-01-01 13:38:11|\n",
      "|          4|       1|     1|Futrelle, Mrs. Ja...|female|35.0|    1|    0|          113803|   53.1| C123|       S|2020-01-01 13:32:00|\n",
      "|          5|       0|     3|Allen, Mr. Willia...|  male|35.0|    0|    0|          373450|   8.05| null|       S|2020-01-01 13:36:30|\n",
      "|          6|       0|     3|    Moran, Mr. James|  male|null|    0|    0|          330877| 8.4583| null|       Q|2020-01-01 13:31:39|\n",
      "|          7|       0|     1|McCarthy, Mr. Tim...|  male|54.0|    0|    0|           17463|51.8625|  E46|       S|2020-01-01 13:37:31|\n",
      "|          8|       0|     3|Palsson, Master. ...|  male| 2.0|    3|    1|          349909| 21.075| null|       S|2020-01-01 13:49:08|\n",
      "|          9|       1|     3|Johnson, Mrs. Osc...|female|27.0|    0|    2|          347742|11.1333| null|       S|2020-01-01 13:33:42|\n",
      "|         10|       1|     2|Nasser, Mrs. Nich...|female|14.0|    1|    0|          237736|30.0708| null|       C|2020-01-01 13:32:53|\n",
      "|         11|       1|     3|Sandstrom, Miss. ...|female| 4.0|    1|    1|         PP 9549|   16.7|   G6|       S|2020-01-01 13:32:23|\n",
      "|         12|       1|     1|Bonnell, Miss. El...|female|58.0|    0|    0|          113783|  26.55| C103|       S|2020-01-01 13:30:12|\n",
      "|         13|       0|     3|Saundercock, Mr. ...|  male|20.0|    0|    0|       A/5. 2151|   8.05| null|       S|2020-01-01 13:33:34|\n",
      "|         14|       0|     3|Andersson, Mr. An...|  male|39.0|    1|    5|          347082| 31.275| null|       S|2020-01-01 13:30:20|\n",
      "|         15|       0|     3|Vestrom, Miss. Hu...|female|14.0|    0|    0|          350406| 7.8542| null|       S|2020-01-01 13:41:17|\n",
      "|         16|       1|     2|Hewlett, Mrs. (Ma...|female|55.0|    0|    0|          248706|   16.0| null|       S|2020-01-01 13:34:22|\n",
      "|         17|       0|     3|Rice, Master. Eugene|  male| 2.0|    4|    1|          382652| 29.125| null|       Q|2020-01-01 13:41:55|\n",
      "|         18|       1|     2|Williams, Mr. Cha...|  male|null|    0|    0|          244373|   13.0| null|       S|2020-01-01 13:39:35|\n",
      "|         19|       0|     3|Vander Planke, Mr...|female|31.0|    1|    0|          345763|   18.0| null|       S|2020-01-01 13:39:38|\n",
      "|         20|       1|     3|Masselmani, Mrs. ...|female|null|    0|    0|            2649|  7.225| null|       C|2020-01-01 13:36:56|\n",
      "|         21|       0|     2|Fynney, Mr. Joseph J|  male|35.0|    0|    0|          239865|   26.0| null|       S|2020-01-01 13:48:28|\n",
      "+-----------+--------+------+--------------------+------+----+-----+-----+----------------+-------+-----+--------+-------------------+\n",
      "only showing top 20 rows\n",
      "\n"
     ]
    }
   ],
   "source": [
    "df_titanic.show()"
   ]
  },
  {
   "cell_type": "markdown",
   "id": "bac6dd7a-d222-4e45-a732-066e228969a5",
   "metadata": {},
   "source": [
    "### Droping null value for avoiding nonetype error in UDF for categorical data "
   ]
  },
  {
   "cell_type": "code",
   "execution_count": 5,
   "id": "0064c925-abf0-494a-b667-ac786a15a7ca",
   "metadata": {},
   "outputs": [],
   "source": [
    "df_titanic = df_titanic.na.drop()"
   ]
  },
  {
   "cell_type": "markdown",
   "id": "c55c99d2-e7ee-4940-84ee-584d497367fb",
   "metadata": {},
   "source": [
    "### Defining function for distributing columns according to their datatype and returning results in to a dictionary"
   ]
  },
  {
   "cell_type": "code",
   "execution_count": 6,
   "id": "a4140fbd-cfdc-4eb0-b944-a900451315ad",
   "metadata": {
    "tags": []
   },
   "outputs": [],
   "source": [
    "def preprocess_fun(dataframe):\n",
    "    \n",
    "    numeric_columns = []\n",
    "    categorical_columns = []\n",
    "    others = []\n",
    "\n",
    "    column_types = dataframe.dtypes\n",
    "    for column_name, column_type in column_types:\n",
    "        if column_type == 'int' or column_type == 'float' or column_type == 'double':\n",
    "            numeric_columns.append(column_name)\n",
    "        elif column_type == 'string':\n",
    "            categorical_columns.append(column_name)\n",
    "        else:\n",
    "            others.append(column_name)\n",
    "                \n",
    "    column_types_dic = {\n",
    "        \"numeric_columns\" : numeric_columns,\n",
    "        \"categorical_columns\" : categorical_columns,\n",
    "        \"others\" : others\n",
    "    }\n",
    "    \n",
    "    return column_types_dic\n",
    "            "
   ]
  },
  {
   "cell_type": "code",
   "execution_count": 7,
   "id": "f3930994-5e51-4abd-8989-96d380c3ac8e",
   "metadata": {
    "tags": []
   },
   "outputs": [],
   "source": [
    "column_types_dict = preprocess_fun(df_titanic)"
   ]
  },
  {
   "cell_type": "code",
   "execution_count": null,
   "id": "8abdbd8f-bde1-42e9-8dd4-1d4756c42bb6",
   "metadata": {},
   "outputs": [],
   "source": []
  },
  {
   "cell_type": "markdown",
   "id": "375a986a-c023-4649-833d-d594f41d8fb0",
   "metadata": {},
   "source": [
    "### Calculating min, max, average of numeric columns"
   ]
  },
  {
   "cell_type": "code",
   "execution_count": 8,
   "id": "87af2381-3831-4f01-8a54-73f4b7287f1e",
   "metadata": {
    "tags": []
   },
   "outputs": [
    {
     "name": "stdout",
     "output_type": "stream",
     "text": [
      "+-----------+--------+------+---+-----+-----+----+\n",
      "|PassengerId|Survived|Pclass|Age|SibSp|Parch|Fare|\n",
      "+-----------+--------+------+---+-----+-----+----+\n",
      "|          2|       0|     1|0.0|    0|    0| 0.0|\n",
      "+-----------+--------+------+---+-----+-----+----+\n",
      "\n"
     ]
    }
   ],
   "source": [
    "min_values = df_titanic.select([min(column).alias(column) for column in column_types_dict['numeric_columns']])\n",
    "min_values.show()"
   ]
  },
  {
   "cell_type": "code",
   "execution_count": 9,
   "id": "496f937d-19dc-46ef-bfd0-a6dd3b89547a",
   "metadata": {
    "tags": []
   },
   "outputs": [
    {
     "name": "stdout",
     "output_type": "stream",
     "text": [
      "+-----------+--------+------+----+-----+-----+--------+\n",
      "|PassengerId|Survived|Pclass| Age|SibSp|Parch|    Fare|\n",
      "+-----------+--------+------+----+-----+-----+--------+\n",
      "|        890|       1|     3|80.0|    3|    4|512.3292|\n",
      "+-----------+--------+------+----+-----+-----+--------+\n",
      "\n"
     ]
    }
   ],
   "source": [
    "max_values = df_titanic.select([max(column).alias(column) for column in column_types_dict['numeric_columns']])\n",
    "max_values.show()"
   ]
  },
  {
   "cell_type": "code",
   "execution_count": 10,
   "id": "f388f6ca-2a05-4db3-a8be-4810a8b5077b",
   "metadata": {
    "tags": []
   },
   "outputs": [
    {
     "name": "stdout",
     "output_type": "stream",
     "text": [
      "+-----------------+------------------+------------------+-----------------+------------------+-------------------+-----------------+\n",
      "|      PassengerId|          Survived|            Pclass|              Age|             SibSp|              Parch|             Fare|\n",
      "+-----------------+------------------+------------------+-----------------+------------------+-------------------+-----------------+\n",
      "|455.3661202185792|0.6721311475409836|1.1912568306010929|35.66120218579235|0.4644808743169399|0.47540983606557374|78.68246885245901|\n",
      "+-----------------+------------------+------------------+-----------------+------------------+-------------------+-----------------+\n",
      "\n"
     ]
    }
   ],
   "source": [
    "avg_values = df_titanic.select([avg(column).alias(column) for column in column_types_dict['numeric_columns']])\n",
    "avg_values.show()"
   ]
  },
  {
   "cell_type": "markdown",
   "id": "29b41919-00e8-4e1f-a09e-1d26de1a6b75",
   "metadata": {},
   "source": [
    "### defining function for categorical columns to replace last letter of word with 1"
   ]
  },
  {
   "cell_type": "code",
   "execution_count": 11,
   "id": "7146064e-8d15-42aa-b576-633422a22a33",
   "metadata": {
    "tags": []
   },
   "outputs": [],
   "source": [
    "def categorical_udf(words):\n",
    "    text = ''\n",
    "    for word in words.split():\n",
    "        text = text + word[:-1] + '1' + \" \" \n",
    "    return text.strip()\n",
    "\n",
    "categorical_udf = udf(categorical_udf, StringType())\n"
   ]
  },
  {
   "cell_type": "code",
   "execution_count": 12,
   "id": "185f92a2-ab70-4435-ab38-eb439db28274",
   "metadata": {
    "tags": []
   },
   "outputs": [],
   "source": [
    "for column in column_types_dict[\"categorical_columns\"]:\n",
    "    df_titanic = df_titanic.withColumn(column+\"_changed\", categorical_udf(col(column)))\n"
   ]
  },
  {
   "cell_type": "code",
   "execution_count": 13,
   "id": "3fc5f8a9-de7a-4a13-a8f8-c39f9715b969",
   "metadata": {
    "tags": []
   },
   "outputs": [
    {
     "data": {
      "text/plain": [
       "['PassengerId',\n",
       " 'Survived',\n",
       " 'Pclass',\n",
       " 'Name',\n",
       " 'Sex',\n",
       " 'Age',\n",
       " 'SibSp',\n",
       " 'Parch',\n",
       " 'Ticket',\n",
       " 'Fare',\n",
       " 'Cabin',\n",
       " 'Embarked',\n",
       " 'Timestamp',\n",
       " 'Name_changed',\n",
       " 'Sex_changed',\n",
       " 'Ticket_changed',\n",
       " 'Cabin_changed',\n",
       " 'Embarked_changed',\n",
       " 'Timestamp_changed']"
      ]
     },
     "execution_count": 13,
     "metadata": {},
     "output_type": "execute_result"
    }
   ],
   "source": [
    "df_titanic.columns"
   ]
  },
  {
   "cell_type": "code",
   "execution_count": 14,
   "id": "6294a696-0e77-4367-9825-83fd07e33c54",
   "metadata": {
    "tags": []
   },
   "outputs": [
    {
     "name": "stdout",
     "output_type": "stream",
     "text": [
      "+--------------------+-----------+--------------+-------------+----------------+-------------------+\n",
      "|        Name_changed|Sex_changed|Ticket_changed|Cabin_changed|Embarked_changed|  Timestamp_changed|\n",
      "+--------------------+-----------+--------------+-------------+----------------+-------------------+\n",
      "|Cumings1 Mrs1 Joh...|     femal1|      P1 17591|          C81|               1|2020-01-01 13:44:41|\n",
      "|Futrelle1 Mrs1 Ja...|     femal1|        113801|         C121|               1|2020-01-01 13:32:01|\n",
      "|McCarthy1 Mr1 Tim...|       mal1|         17461|          E41|               1|2020-01-01 13:37:31|\n",
      "|Sandstrom1 Miss1 ...|     femal1|       P1 9541|           G1|               1|2020-01-01 13:32:21|\n",
      "|Bonnell1 Miss1 El...|     femal1|        113781|         C101|               1|2020-01-01 13:30:11|\n",
      "|Beesley1 Mr1 Lawr...|       mal1|        248691|          D51|               1|2020-01-01 13:33:31|\n",
      "|Sloper1 Mr1 Willi...|       mal1|        113781|           A1|               1|2020-01-01 13:49:11|\n",
      "|Fortune1 Mr1 Char...|       mal1|         19951|  C21 C21 C21|               1|2020-01-01 13:32:41|\n",
      "|Harper1 Mrs1 Henr...|     femal1|      P1 17571|          D31|               1|2020-01-01 13:48:41|\n",
      "|Ostby1 Mr1 Engelh...|       mal1|        113501|          B31|               1|2020-01-01 13:30:01|\n",
      "|Harris1 Mr1 Henr1...|       mal1|         36971|          C81|               1|2020-01-01 13:39:01|\n",
      "|Nye1 Mrs1 (Elizab...|     femal1|    C.A1 29391|          F31|               1|2020-01-01 13:34:01|\n",
      "|Moen1 Mr1 Sigur1 ...|       mal1|        348121|        1 G71|               1|2020-01-01 13:40:41|\n",
      "|Fortune1 Miss1 Ma...|     femal1|         19951|  C21 C21 C21|               1|2020-01-01 13:44:21|\n",
      "|Chaffee1 Mr1 Herb...|       mal1|   W.E.P1 5731|          E31|               1|2020-01-01 13:40:11|\n",
      "|Goldschmidt1 Mr1 ...|       mal1|      P1 17751|           A1|               1|2020-01-01 13:40:21|\n",
      "|Greenfield1 Mr1 W...|       mal1|      P1 17751|      D11 D11|               1|2020-01-01 13:33:51|\n",
      "|White1 Mr1 Richar...|       mal1|         35281|          D21|               1|2020-01-01 13:36:31|\n",
      "|Porter1 Mr1 Walte...|       mal1|        110461|         C111|               1|2020-01-01 13:45:11|\n",
      "|Baxter1 Mr1 Quig1...|       mal1|      P1 17551|      B51 B61|               1|2020-01-01 13:31:41|\n",
      "+--------------------+-----------+--------------+-------------+----------------+-------------------+\n",
      "only showing top 20 rows\n",
      "\n"
     ]
    }
   ],
   "source": [
    "\n",
    "df_titanic.select('Name_changed', 'Sex_changed', 'Ticket_changed', 'Cabin_changed','Embarked_changed','Timestamp_changed').show()"
   ]
  },
  {
   "cell_type": "code",
   "execution_count": null,
   "id": "d23f8639-92e3-4796-ab2e-46de037801f3",
   "metadata": {},
   "outputs": [],
   "source": []
  }
 ],
 "metadata": {
  "kernelspec": {
   "display_name": "Python 3 (ipykernel)",
   "language": "python",
   "name": "python3"
  },
  "language_info": {
   "codemirror_mode": {
    "name": "ipython",
    "version": 3
   },
   "file_extension": ".py",
   "mimetype": "text/x-python",
   "name": "python",
   "nbconvert_exporter": "python",
   "pygments_lexer": "ipython3",
   "version": "3.10.11"
  }
 },
 "nbformat": 4,
 "nbformat_minor": 5
}

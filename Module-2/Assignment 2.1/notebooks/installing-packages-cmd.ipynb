{
 "cells": [
  {
   "cell_type": "code",
   "execution_count": 1,
   "id": "05c6eb2c",
   "metadata": {},
   "outputs": [
    {
     "name": "stdout",
     "output_type": "stream",
     "text": [
      "Collecting nbqa\n",
      "  Downloading nbqa-1.7.0-py3-none-any.whl (34 kB)\n",
      "Requirement already satisfied: autopep8>=1.5 in c:\\users\\dell\\anaconda3\\lib\\site-packages (from nbqa) (1.5.6)\n",
      "Collecting tokenize-rt>=3.2.0\n",
      "  Downloading tokenize_rt-5.0.0-py2.py3-none-any.whl (5.8 kB)\n",
      "Collecting tomli\n",
      "  Using cached tomli-2.0.1-py3-none-any.whl (12 kB)\n",
      "Requirement already satisfied: ipython>=7.8.0 in c:\\users\\dell\\anaconda3\\lib\\site-packages (from nbqa) (7.31.0)\n",
      "Collecting pycodestyle>=2.7.0\n",
      "  Using cached pycodestyle-2.10.0-py2.py3-none-any.whl (41 kB)\n",
      "Requirement already satisfied: toml in c:\\users\\dell\\anaconda3\\lib\\site-packages (from autopep8>=1.5->nbqa) (0.10.2)\n",
      "Requirement already satisfied: decorator in c:\\users\\dell\\anaconda3\\lib\\site-packages (from ipython>=7.8.0->nbqa) (5.0.6)\n",
      "Requirement already satisfied: matplotlib-inline in c:\\users\\dell\\anaconda3\\lib\\site-packages (from ipython>=7.8.0->nbqa) (0.1.3)\n",
      "Requirement already satisfied: pickleshare in c:\\users\\dell\\anaconda3\\lib\\site-packages (from ipython>=7.8.0->nbqa) (0.7.5)\n"
     ]
    },
    {
     "name": "stderr",
     "output_type": "stream",
     "text": [
      "ERROR: pip's dependency resolver does not currently take into account all the packages that are installed. This behaviour is the source of the following dependency conflicts.\n",
      "flake8 3.9.0 requires pycodestyle<2.8.0,>=2.7.0, but you have pycodestyle 2.10.0 which is incompatible.\n",
      "flake8 3.9.0 requires pyflakes<2.4.0,>=2.3.0, but you have pyflakes 2.2.0 which is incompatible.\n"
     ]
    },
    {
     "name": "stdout",
     "output_type": "stream",
     "text": [
      "Requirement already satisfied: traitlets>=4.2 in c:\\users\\dell\\anaconda3\\lib\\site-packages (from ipython>=7.8.0->nbqa) (5.1.1)\n",
      "Requirement already satisfied: jedi>=0.16 in c:\\users\\dell\\anaconda3\\lib\\site-packages (from ipython>=7.8.0->nbqa) (0.17.2)\n",
      "Requirement already satisfied: pygments in c:\\users\\dell\\anaconda3\\lib\\site-packages (from ipython>=7.8.0->nbqa) (2.8.1)\n",
      "Requirement already satisfied: backcall in c:\\users\\dell\\anaconda3\\lib\\site-packages (from ipython>=7.8.0->nbqa) (0.2.0)\n",
      "Requirement already satisfied: prompt-toolkit!=3.0.0,!=3.0.1,<3.1.0,>=2.0.0 in c:\\users\\dell\\anaconda3\\lib\\site-packages (from ipython>=7.8.0->nbqa) (3.0.17)\n",
      "Requirement already satisfied: colorama in c:\\users\\dell\\anaconda3\\lib\\site-packages (from ipython>=7.8.0->nbqa) (0.4.4)\n",
      "Requirement already satisfied: setuptools>=18.5 in c:\\users\\dell\\anaconda3\\lib\\site-packages (from ipython>=7.8.0->nbqa) (52.0.0.post20210125)\n",
      "Requirement already satisfied: parso<0.8.0,>=0.7.0 in c:\\users\\dell\\anaconda3\\lib\\site-packages (from jedi>=0.16->ipython>=7.8.0->nbqa) (0.7.0)\n",
      "Requirement already satisfied: wcwidth in c:\\users\\dell\\anaconda3\\lib\\site-packages (from prompt-toolkit!=3.0.0,!=3.0.1,<3.1.0,>=2.0.0->ipython>=7.8.0->nbqa) (0.2.5)\n",
      "Installing collected packages: pycodestyle, tomli, tokenize-rt, nbqa\n",
      "  Attempting uninstall: pycodestyle\n",
      "    Found existing installation: pycodestyle 2.6.0\n",
      "    Uninstalling pycodestyle-2.6.0:\n",
      "      Successfully uninstalled pycodestyle-2.6.0\n",
      "Successfully installed nbqa-1.7.0 pycodestyle-2.10.0 tokenize-rt-5.0.0 tomli-2.0.1\n"
     ]
    }
   ],
   "source": [
    "!python -m pip install -U nbqa"
   ]
  },
  {
   "cell_type": "code",
   "execution_count": 2,
   "id": "8d0d85e1",
   "metadata": {},
   "outputs": [
    {
     "name": "stdout",
     "output_type": "stream",
     "text": [
      "Requirement already satisfied: nbqa[toolchain] in c:\\users\\dell\\anaconda3\\lib\\site-packages (1.7.0)\n",
      "Requirement already satisfied: autopep8>=1.5 in c:\\users\\dell\\anaconda3\\lib\\site-packages (from nbqa[toolchain]) (1.5.6)\n",
      "Requirement already satisfied: tomli in c:\\users\\dell\\anaconda3\\lib\\site-packages (from nbqa[toolchain]) (2.0.1)\n",
      "Requirement already satisfied: ipython>=7.8.0 in c:\\users\\dell\\anaconda3\\lib\\site-packages (from nbqa[toolchain]) (7.31.0)\n",
      "Requirement already satisfied: tokenize-rt>=3.2.0 in c:\\users\\dell\\anaconda3\\lib\\site-packages (from nbqa[toolchain]) (5.0.0)\n",
      "Requirement already satisfied: isort in c:\\users\\dell\\anaconda3\\lib\\site-packages (from nbqa[toolchain]) (5.8.0)\n",
      "Collecting mypy\n",
      "  Downloading mypy-1.2.0-cp38-cp38-win_amd64.whl (8.9 MB)\n",
      "Collecting pyupgrade\n",
      "  Downloading pyupgrade-3.3.1-py2.py3-none-any.whl (58 kB)\n",
      "Requirement already satisfied: flake8 in c:\\users\\dell\\anaconda3\\lib\\site-packages (from nbqa[toolchain]) (3.9.0)\n",
      "Requirement already satisfied: pylint in c:\\users\\dell\\anaconda3\\lib\\site-packages (from nbqa[toolchain]) (2.7.4)\n",
      "Collecting blacken-docs\n",
      "  Downloading blacken_docs-1.13.0-py3-none-any.whl (7.1 kB)\n",
      "Collecting jupytext\n",
      "  Downloading jupytext-1.14.5-py3-none-any.whl (298 kB)\n",
      "Requirement already satisfied: black in c:\\users\\dell\\anaconda3\\lib\\site-packages (from nbqa[toolchain]) (19.10b0)\n",
      "Collecting ruff\n",
      "  Downloading ruff-0.0.261-py3-none-win_amd64.whl (5.3 MB)\n",
      "Requirement already satisfied: toml in c:\\users\\dell\\anaconda3\\lib\\site-packages (from autopep8>=1.5->nbqa[toolchain]) (0.10.2)\n",
      "Requirement already satisfied: pycodestyle>=2.7.0 in c:\\users\\dell\\anaconda3\\lib\\site-packages (from autopep8>=1.5->nbqa[toolchain]) (2.10.0)\n",
      "Requirement already satisfied: decorator in c:\\users\\dell\\anaconda3\\lib\\site-packages (from ipython>=7.8.0->nbqa[toolchain]) (5.0.6)\n",
      "Requirement already satisfied: matplotlib-inline in c:\\users\\dell\\anaconda3\\lib\\site-packages (from ipython>=7.8.0->nbqa[toolchain]) (0.1.3)\n",
      "Requirement already satisfied: jedi>=0.16 in c:\\users\\dell\\anaconda3\\lib\\site-packages (from ipython>=7.8.0->nbqa[toolchain]) (0.17.2)"
     ]
    },
    {
     "name": "stderr",
     "output_type": "stream",
     "text": [
      "ERROR: pip's dependency resolver does not currently take into account all the packages that are installed. This behaviour is the source of the following dependency conflicts.\n",
      "sphinx 4.0.1 requires MarkupSafe<2.0, but you have markupsafe 2.0.1 which is incompatible.\n"
     ]
    },
    {
     "name": "stdout",
     "output_type": "stream",
     "text": [
      "\n",
      "Requirement already satisfied: setuptools>=18.5 in c:\\users\\dell\\anaconda3\\lib\\site-packages (from ipython>=7.8.0->nbqa[toolchain]) (52.0.0.post20210125)\n",
      "Requirement already satisfied: traitlets>=4.2 in c:\\users\\dell\\anaconda3\\lib\\site-packages (from ipython>=7.8.0->nbqa[toolchain]) (5.1.1)\n",
      "Requirement already satisfied: pickleshare in c:\\users\\dell\\anaconda3\\lib\\site-packages (from ipython>=7.8.0->nbqa[toolchain]) (0.7.5)\n",
      "Requirement already satisfied: prompt-toolkit!=3.0.0,!=3.0.1,<3.1.0,>=2.0.0 in c:\\users\\dell\\anaconda3\\lib\\site-packages (from ipython>=7.8.0->nbqa[toolchain]) (3.0.17)\n",
      "Requirement already satisfied: backcall in c:\\users\\dell\\anaconda3\\lib\\site-packages (from ipython>=7.8.0->nbqa[toolchain]) (0.2.0)\n",
      "Requirement already satisfied: colorama in c:\\users\\dell\\anaconda3\\lib\\site-packages (from ipython>=7.8.0->nbqa[toolchain]) (0.4.4)\n",
      "Requirement already satisfied: pygments in c:\\users\\dell\\anaconda3\\lib\\site-packages (from ipython>=7.8.0->nbqa[toolchain]) (2.8.1)\n",
      "Requirement already satisfied: parso<0.8.0,>=0.7.0 in c:\\users\\dell\\anaconda3\\lib\\site-packages (from jedi>=0.16->ipython>=7.8.0->nbqa[toolchain]) (0.7.0)\n",
      "Requirement already satisfied: wcwidth in c:\\users\\dell\\anaconda3\\lib\\site-packages (from prompt-toolkit!=3.0.0,!=3.0.1,<3.1.0,>=2.0.0->ipython>=7.8.0->nbqa[toolchain]) (0.2.5)\n",
      "Requirement already satisfied: pathspec<1,>=0.6 in c:\\users\\dell\\anaconda3\\lib\\site-packages (from black->nbqa[toolchain]) (0.7.0)\n",
      "Requirement already satisfied: typed-ast>=1.4.0 in c:\\users\\dell\\anaconda3\\lib\\site-packages (from black->nbqa[toolchain]) (1.4.2)\n",
      "Requirement already satisfied: click>=6.5 in c:\\users\\dell\\anaconda3\\lib\\site-packages (from black->nbqa[toolchain]) (7.1.2)\n",
      "Requirement already satisfied: appdirs in c:\\users\\dell\\anaconda3\\lib\\site-packages (from black->nbqa[toolchain]) (1.4.4)\n",
      "Requirement already satisfied: attrs>=18.1.0 in c:\\users\\dell\\anaconda3\\lib\\site-packages (from black->nbqa[toolchain]) (20.3.0)\n",
      "Requirement already satisfied: regex in c:\\users\\dell\\anaconda3\\lib\\site-packages (from black->nbqa[toolchain]) (2021.4.4)\n",
      "Collecting black\n",
      "  Downloading black-23.3.0-cp38-cp38-win_amd64.whl (1.3 MB)\n",
      "Requirement already satisfied: typing-extensions>=3.10.0.0 in c:\\users\\dell\\anaconda3\\lib\\site-packages (from black->nbqa[toolchain]) (4.0.1)\n",
      "Collecting pathspec<1,>=0.6\n",
      "  Downloading pathspec-0.11.1-py3-none-any.whl (29 kB)\n",
      "Collecting platformdirs>=2\n",
      "  Downloading platformdirs-3.2.0-py3-none-any.whl (14 kB)\n",
      "Requirement already satisfied: mypy-extensions>=0.4.3 in c:\\users\\dell\\anaconda3\\lib\\site-packages (from black->nbqa[toolchain]) (0.4.3)\n",
      "Collecting click>=6.5\n",
      "  Using cached click-8.1.3-py3-none-any.whl (96 kB)\n",
      "Collecting packaging>=22.0\n",
      "  Downloading packaging-23.1-py3-none-any.whl (48 kB)\n",
      "Collecting pycodestyle>=2.7.0\n",
      "  Using cached pycodestyle-2.7.0-py2.py3-none-any.whl (41 kB)\n",
      "Requirement already satisfied: mccabe<0.7.0,>=0.6.0 in c:\\users\\dell\\anaconda3\\lib\\site-packages (from flake8->nbqa[toolchain]) (0.6.1)\n",
      "Collecting pyflakes<2.4.0,>=2.3.0\n",
      "  Downloading pyflakes-2.3.1-py2.py3-none-any.whl (68 kB)\n",
      "Collecting mdit-py-plugins\n",
      "  Downloading mdit_py_plugins-0.3.5-py3-none-any.whl (52 kB)\n",
      "Collecting markdown-it-py<3.0.0,>=1.0.0\n",
      "  Downloading markdown_it_py-2.2.0-py3-none-any.whl (84 kB)\n",
      "Requirement already satisfied: pyyaml in c:\\users\\dell\\anaconda3\\lib\\site-packages (from jupytext->nbqa[toolchain]) (5.4.1)\n",
      "Requirement already satisfied: nbformat in c:\\users\\dell\\anaconda3\\lib\\site-packages (from jupytext->nbqa[toolchain]) (5.1.3)\n",
      "Collecting mdurl~=0.1\n",
      "  Downloading mdurl-0.1.2-py3-none-any.whl (10.0 kB)\n",
      "Collecting mypy-extensions>=0.4.3\n",
      "  Using cached mypy_extensions-1.0.0-py3-none-any.whl (4.7 kB)\n",
      "Requirement already satisfied: jsonschema!=2.5.0,>=2.4 in c:\\users\\dell\\anaconda3\\lib\\site-packages (from nbformat->jupytext->nbqa[toolchain]) (3.2.0)\n",
      "Requirement already satisfied: ipython-genutils in c:\\users\\dell\\anaconda3\\lib\\site-packages (from nbformat->jupytext->nbqa[toolchain]) (0.2.0)\n",
      "Requirement already satisfied: jupyter-core in c:\\users\\dell\\anaconda3\\lib\\site-packages (from nbformat->jupytext->nbqa[toolchain]) (4.7.1)\n",
      "Requirement already satisfied: six>=1.11.0 in c:\\users\\dell\\anaconda3\\lib\\site-packages (from jsonschema!=2.5.0,>=2.4->nbformat->jupytext->nbqa[toolchain]) (1.15.0)\n",
      "Requirement already satisfied: pyrsistent>=0.14.0 in c:\\users\\dell\\anaconda3\\lib\\site-packages (from jsonschema!=2.5.0,>=2.4->nbformat->jupytext->nbqa[toolchain]) (0.17.3)\n",
      "Requirement already satisfied: pywin32>=1.0 in c:\\users\\dell\\anaconda3\\lib\\site-packages (from jupyter-core->nbformat->jupytext->nbqa[toolchain]) (227)\n",
      "Collecting astroid<2.7,>=2.5.2\n",
      "  Downloading astroid-2.6.6-py3-none-any.whl (231 kB)\n",
      "Requirement already satisfied: wrapt<1.13,>=1.11 in c:\\users\\dell\\anaconda3\\lib\\site-packages (from astroid<2.7,>=2.5.2->pylint->nbqa[toolchain]) (1.12.1)\n",
      "Requirement already satisfied: lazy-object-proxy>=1.4.0 in c:\\users\\dell\\anaconda3\\lib\\site-packages (from astroid<2.7,>=2.5.2->pylint->nbqa[toolchain]) (1.6.0)\n",
      "Installing collected packages: mdurl, pycodestyle, platformdirs, pathspec, packaging, mypy-extensions, markdown-it-py, click, pyflakes, mdit-py-plugins, black, astroid, ruff, pyupgrade, mypy, jupytext, blacken-docs\n",
      "  Attempting uninstall: pycodestyle\n",
      "    Found existing installation: pycodestyle 2.10.0\n",
      "    Uninstalling pycodestyle-2.10.0:\n",
      "      Successfully uninstalled pycodestyle-2.10.0\n",
      "  Attempting uninstall: pathspec\n",
      "    Found existing installation: pathspec 0.7.0\n",
      "    Uninstalling pathspec-0.7.0:\n",
      "      Successfully uninstalled pathspec-0.7.0\n",
      "  Attempting uninstall: packaging\n",
      "    Found existing installation: packaging 21.3\n",
      "    Uninstalling packaging-21.3:\n",
      "      Successfully uninstalled packaging-21.3\n",
      "  Attempting uninstall: mypy-extensions\n",
      "    Found existing installation: mypy-extensions 0.4.3\n",
      "    Uninstalling mypy-extensions-0.4.3:\n",
      "      Successfully uninstalled mypy-extensions-0.4.3\n",
      "  Attempting uninstall: click\n",
      "    Found existing installation: click 7.1.2\n",
      "    Uninstalling click-7.1.2:\n",
      "      Successfully uninstalled click-7.1.2\n",
      "  Attempting uninstall: pyflakes\n",
      "    Found existing installation: pyflakes 2.2.0\n",
      "    Uninstalling pyflakes-2.2.0:\n",
      "      Successfully uninstalled pyflakes-2.2.0\n",
      "  Attempting uninstall: black\n",
      "    Found existing installation: black 19.10b0\n",
      "    Uninstalling black-19.10b0:\n",
      "      Successfully uninstalled black-19.10b0\n",
      "  Attempting uninstall: astroid\n",
      "    Found existing installation: astroid 2.5\n",
      "    Uninstalling astroid-2.5:\n",
      "      Successfully uninstalled astroid-2.5\n",
      "Successfully installed astroid-2.6.6 black-23.3.0 blacken-docs-1.13.0 click-8.1.3 jupytext-1.14.5 markdown-it-py-2.2.0 mdit-py-plugins-0.3.5 mdurl-0.1.2 mypy-1.2.0 mypy-extensions-1.0.0 packaging-23.1 pathspec-0.11.1 platformdirs-3.2.0 pycodestyle-2.7.0 pyflakes-2.3.1 pyupgrade-3.3.1 ruff-0.0.261\n"
     ]
    }
   ],
   "source": [
    "!python -m pip install -U \"nbqa[toolchain]\""
   ]
  },
  {
   "cell_type": "code",
   "execution_count": 3,
   "id": "102af8ae",
   "metadata": {},
   "outputs": [],
   "source": [
    "!nbqa blacken-docs nbqa-md-assignment-2.1.ipynb --nbqa-md "
   ]
  },
  {
   "cell_type": "code",
   "execution_count": null,
   "id": "b2878414",
   "metadata": {},
   "outputs": [],
   "source": []
  }
 ],
 "metadata": {
  "kernelspec": {
   "display_name": "Python 3 (ipykernel)",
   "language": "python",
   "name": "python3"
  },
  "language_info": {
   "codemirror_mode": {
    "name": "ipython",
    "version": 3
   },
   "file_extension": ".py",
   "mimetype": "text/x-python",
   "name": "python",
   "nbconvert_exporter": "python",
   "pygments_lexer": "ipython3",
   "version": "3.8.8"
  }
 },
 "nbformat": 4,
 "nbformat_minor": 5
}

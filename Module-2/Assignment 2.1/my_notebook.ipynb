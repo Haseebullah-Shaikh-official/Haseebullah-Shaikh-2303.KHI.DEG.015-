{
 "cells": [
  {
   "cell_type": "markdown",
   "id": "fac8d50b-4871-4faf-8ac5-dfc2b7db53ba",
   "metadata": {},
   "source": [
    "```python\n",
    "i = 10\n",
    "b = 0\n",
    "i + b\n",
    "for i in range(10):\n",
    "    print(i)\n",
    "```"
   ]
  },
  {
   "cell_type": "code",
   "execution_count": 11,
   "id": "f6f0ae9e-8c63-4365-873f-c2a3755d5056",
   "metadata": {},
   "outputs": [],
   "source": [
    "!nbqa blacken-docs my_notebook.ipynb --nbqa-md\n"
   ]
  },
  {
   "cell_type": "markdown",
   "id": "dbcb9623-9d8e-4805-83dc-ceb88128a1c1",
   "metadata": {},
   "source": []
  }
 ],
 "metadata": {
  "kernelspec": {
   "display_name": "Python 3 (ipykernel)",
   "language": "python",
   "name": "python3"
  },
  "language_info": {
   "codemirror_mode": {
    "name": "ipython",
    "version": 3
   },
   "file_extension": ".py",
   "mimetype": "text/x-python",
   "name": "python",
   "nbconvert_exporter": "python",
   "pygments_lexer": "ipython3",
   "version": "3.10.6"
  }
 },
 "nbformat": 4,
 "nbformat_minor": 5
}

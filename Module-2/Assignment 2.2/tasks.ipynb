{
 "cells": [
  {
   "cell_type": "markdown",
   "metadata": {},
   "source": [
    "## Exercises"
   ]
  },
  {
   "cell_type": "markdown",
   "metadata": {},
   "source": [
    "<b>Remember that if you run into any problems, it's a good habit to refer to NumPy documentation.</b>"
   ]
  },
  {
   "cell_type": "markdown",
   "metadata": {},
   "source": [
    "1. Create array with values [1, 0, 2, 4, 0, 0, 7], reverse it and find indices of zero-valued elements."
   ]
  },
  {
   "cell_type": "code",
   "execution_count": 64,
   "metadata": {},
   "outputs": [
    {
     "name": "stdout",
     "output_type": "stream",
     "text": [
      "Rverse array :  [7 0 0 4 2 0 1]\n",
      "Indexes of zeros :  (array([1, 2, 5], dtype=int64),)\n"
     ]
    }
   ],
   "source": [
    "import numpy as np\n",
    "arr = np.array([1,0,2,4,0,0,7])\n",
    "\n",
    "#to reverse an array in numpy you can use flip() a bulit in function.\n",
    "r_arr = np.flip(arr)\n",
    "print(\"Rverse array : \",r_arr)\n",
    "\n",
    "\n",
    "#to find indexes of number in an array you can use builting function np.where(arr == value you want to find index)\n",
    "index_zeros =  np.where(r_arr == 0)\n",
    "print(\"Indexes of zeros : \",index_zeros)\n",
    "\n"
   ]
  },
  {
   "cell_type": "markdown",
   "metadata": {},
   "source": [
    "2. Use previously created array, and find 3 highest and lowest values, and their indices."
   ]
  },
  {
   "cell_type": "code",
   "execution_count": 76,
   "metadata": {},
   "outputs": [
    {
     "name": "stdout",
     "output_type": "stream",
     "text": [
      "[1 2 5 6 4 3 0]\n",
      "Highest values indexes:  [4 3 0]\n",
      "Highest values :  [2 4 7]\n",
      "lowest values indexes:  [1 2 5]\n",
      "lowest values :  [0 0 0]\n"
     ]
    }
   ],
   "source": [
    "r_arr2 = r_arr.copy()\n",
    "\n",
    "###argsort sorts the array and provide the indexes of sorted array\n",
    "indexes = np.argsort(r_arr2)\n",
    "print(indexes)\n",
    "\n",
    "max_indexs = indexes[-3:]\n",
    "print(\"Highest values indexes: \", max_indexs)\n",
    "print(\"Highest values : \", r_arr2[max_indexs] )\n",
    "\n",
    "\n",
    "min_indexs = indexes[:3]\n",
    "print(\"lowest values indexes: \", min_indexs)\n",
    "print(\"lowest values : \", r_arr2[min_indexs] )\n",
    "\n",
    "\n",
    "\n"
   ]
  },
  {
   "cell_type": "markdown",
   "metadata": {},
   "source": [
    "3. Create two random arrays and calculate euclidean distance between them."
   ]
  },
  {
   "cell_type": "code",
   "execution_count": 80,
   "metadata": {},
   "outputs": [
    {
     "name": "stdout",
     "output_type": "stream",
     "text": [
      "[5 6 9]\n",
      "[10 16 13]\n",
      "11.874342087037917\n"
     ]
    }
   ],
   "source": [
    "a = np.random.randint(0,10,3)\n",
    "b = np.random.randint(10,20,3)\n",
    "\n",
    "print(a)\n",
    "print(b)\n",
    "\n",
    "# using linalg.norm()\n",
    "dist = np.linalg.norm(a - b)\n",
    "\n",
    "print(dist)"
   ]
  },
  {
   "cell_type": "markdown",
   "metadata": {},
   "source": [
    "4. Try to obtain element-wise sum and element-wise multiplication of `x` and `y` using pure Python only."
   ]
  },
  {
   "cell_type": "code",
   "execution_count": 88,
   "metadata": {},
   "outputs": [
    {
     "name": "stdout",
     "output_type": "stream",
     "text": [
      "6.54 µs ± 631 ns per loop (mean ± std. dev. of 7 runs, 100,000 loops each)\n"
     ]
    }
   ],
   "source": [
    "%%timeit\n",
    "add = []\n",
    "\n",
    "l = len(a)\n",
    "for i in range(l):\n",
    "    add.append(a[i] + b[i])\n",
    "    \n",
    "# print(add)\n",
    "\n",
    "mul = []\n",
    "\n",
    "l = len(a)\n",
    "for i in range(l):\n",
    "    mul.append(a[i] * b[i])\n",
    "    \n",
    "# print(mul)\n"
   ]
  },
  {
   "cell_type": "markdown",
   "metadata": {},
   "source": [
    "5. Perform previous task using NumPy and compare the times of execution."
   ]
  },
  {
   "cell_type": "code",
   "execution_count": 89,
   "metadata": {},
   "outputs": [
    {
     "name": "stdout",
     "output_type": "stream",
     "text": [
      "2.09 µs ± 163 ns per loop (mean ± std. dev. of 7 runs, 100,000 loops each)\n"
     ]
    }
   ],
   "source": [
    "%%timeit\n",
    "np.add(a,b)\n",
    "np.multiply(a,b)\n"
   ]
  },
  {
   "cell_type": "markdown",
   "metadata": {},
   "source": [
    "6. Create two random arrays of size 3x4. To each of the arrays, add a row containing a maximum value in each column and then add a column containing a minimum value in each row. You should obtain two 4x5 matrices. Then concatenate them along last dimension. In the end add a row containing sum of values of each column and then add a column containing sum of values in each row."
   ]
  },
  {
   "cell_type": "code",
   "execution_count": null,
   "metadata": {},
   "outputs": [],
   "source": []
  },
  {
   "cell_type": "markdown",
   "metadata": {},
   "source": [
    "7. Create function, that can calculate cartesian product between two arrays."
   ]
  },
  {
   "cell_type": "code",
   "execution_count": null,
   "metadata": {},
   "outputs": [],
   "source": []
  }
 ],
 "metadata": {
  "kernelspec": {
   "display_name": "Python 3 (ipykernel)",
   "language": "python",
   "name": "python3"
  },
  "language_info": {
   "codemirror_mode": {
    "name": "ipython",
    "version": 3
   },
   "file_extension": ".py",
   "mimetype": "text/x-python",
   "name": "python",
   "nbconvert_exporter": "python",
   "pygments_lexer": "ipython3",
   "version": "3.8.8"
  }
 },
 "nbformat": 4,
 "nbformat_minor": 4
}

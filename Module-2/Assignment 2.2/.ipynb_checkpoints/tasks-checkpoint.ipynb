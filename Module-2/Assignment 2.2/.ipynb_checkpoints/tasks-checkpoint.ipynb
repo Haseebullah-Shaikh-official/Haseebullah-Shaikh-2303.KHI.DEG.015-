{
 "cells": [
  {
   "cell_type": "markdown",
   "metadata": {},
   "source": [
    "## Exercises"
   ]
  },
  {
   "cell_type": "markdown",
   "metadata": {},
   "source": [
    "<b>Remember that if you run into any problems, it's a good habit to refer to NumPy documentation.</b>"
   ]
  },
  {
   "cell_type": "markdown",
   "metadata": {},
   "source": [
    "1. Create array with values [1, 0, 2, 4, 0, 0, 7], reverse it and find indices of zero-valued elements."
   ]
  },
  {
   "cell_type": "code",
   "execution_count": 2,
   "metadata": {},
   "outputs": [
    {
     "name": "stdout",
     "output_type": "stream",
     "text": [
      "Rverse array :  [7 0 0 4 2 0 1]\n",
      "Indexes of zeros :  (array([1, 2, 5]),)\n"
     ]
    }
   ],
   "source": [
    "import numpy as np\n",
    "arr = np.array([1,0,2,4,0,0,7])\n",
    "\n",
    "#to reverse an array in numpy you can use flip() a bulit in function.\n",
    "r_arr = np.flip(arr)\n",
    "print(\"Rverse array : \",r_arr)\n",
    "\n",
    "\n",
    "#to find indexes of number in an array you can use builting function np.where(arr == value you want to find index)\n",
    "index_zeros =  np.where(r_arr == 0)\n",
    "print(\"Indexes of zeros : \",index_zeros)\n",
    "\n"
   ]
  },
  {
   "cell_type": "markdown",
   "metadata": {},
   "source": [
    "2. Use previously created array, and find 3 highest and lowest values, and their indices."
   ]
  },
  {
   "cell_type": "code",
   "execution_count": 3,
   "metadata": {},
   "outputs": [
    {
     "name": "stdout",
     "output_type": "stream",
     "text": [
      "[1 2 5 6 4 3 0]\n",
      "Highest values indexes:  [4 3 0]\n",
      "Highest values :  [2 4 7]\n",
      "lowest values indexes:  [1 2 5]\n",
      "lowest values :  [0 0 0]\n"
     ]
    }
   ],
   "source": [
    "r_arr2 = r_arr.copy()\n",
    "\n",
    "###argsort sorts the array and provide the indexes of sorted array\n",
    "indexes = np.argsort(r_arr2)\n",
    "print(indexes)\n",
    "\n",
    "max_indexs = indexes[-3:]\n",
    "print(\"Highest values indexes: \", max_indexs)\n",
    "print(\"Highest values : \", r_arr2[max_indexs] )\n",
    "\n",
    "\n",
    "min_indexs = indexes[:3]\n",
    "print(\"lowest values indexes: \", min_indexs)\n",
    "print(\"lowest values : \", r_arr2[min_indexs] )\n",
    "\n",
    "\n",
    "\n"
   ]
  },
  {
   "cell_type": "markdown",
   "metadata": {},
   "source": [
    "3. Create two random arrays and calculate euclidean distance between them."
   ]
  },
  {
   "cell_type": "code",
   "execution_count": 4,
   "metadata": {},
   "outputs": [
    {
     "name": "stdout",
     "output_type": "stream",
     "text": [
      "[4 7 8]\n",
      "[11 15 16]\n",
      "13.30413469565007\n"
     ]
    }
   ],
   "source": [
    "a = np.random.randint(0,10,3)\n",
    "b = np.random.randint(10,20,3)\n",
    "\n",
    "print(a)\n",
    "print(b)\n",
    "\n",
    "# using linalg.norm()\n",
    "dist = np.linalg.norm(a - b)\n",
    "\n",
    "print(dist)"
   ]
  },
  {
   "cell_type": "markdown",
   "metadata": {},
   "source": [
    "4. Try to obtain element-wise sum and element-wise multiplication of `x` and `y` using pure Python only."
   ]
  },
  {
   "cell_type": "code",
   "execution_count": 5,
   "metadata": {},
   "outputs": [
    {
     "name": "stdout",
     "output_type": "stream",
     "text": [
      "1.26 µs ± 27.2 ns per loop (mean ± std. dev. of 7 runs, 1,000,000 loops each)\n"
     ]
    }
   ],
   "source": [
    "%%timeit\n",
    "add = []\n",
    "\n",
    "l = len(a)\n",
    "for i in range(l):\n",
    "    add.append(a[i] + b[i])\n",
    "    \n",
    "# print(add)\n",
    "\n",
    "mul = []\n",
    "\n",
    "l = len(a)\n",
    "for i in range(l):\n",
    "    mul.append(a[i] * b[i])\n",
    "    \n",
    "# print(mul)\n"
   ]
  },
  {
   "cell_type": "markdown",
   "metadata": {},
   "source": [
    "5. Perform previous task using NumPy and compare the times of execution."
   ]
  },
  {
   "cell_type": "code",
   "execution_count": 6,
   "metadata": {},
   "outputs": [
    {
     "name": "stdout",
     "output_type": "stream",
     "text": [
      "640 ns ± 21.1 ns per loop (mean ± std. dev. of 7 runs, 1,000,000 loops each)\n"
     ]
    }
   ],
   "source": [
    "%%timeit\n",
    "np.add(a,b)\n",
    "np.multiply(a,b)\n"
   ]
  },
  {
   "cell_type": "markdown",
   "metadata": {},
   "source": [
    "6. Create two random arrays of size 3x4. To each of the arrays, add a row containing a maximum value in each column and then add a column containing a minimum value in each row. You should obtain two 4x5 matrices. Then concatenate them along last dimension. In the end add a row containing sum of values of each column and then add a column containing sum of values in each row."
   ]
  },
  {
   "cell_type": "code",
   "execution_count": 22,
   "metadata": {
    "tags": []
   },
   "outputs": [
    {
     "name": "stdout",
     "output_type": "stream",
     "text": [
      "\n",
      " Random array 1 : \n",
      " [[4 3 4 9]\n",
      " [5 2 4 4]\n",
      " [5 8 4 2]]\n",
      "\n",
      " Max row array1: \n",
      " [5 8 4 9]\n",
      "\n",
      " New Random array 1 : \n",
      " [[4 3 4 9]\n",
      " [5 2 4 4]\n",
      " [5 8 4 2]\n",
      " [5 8 4 9]]\n",
      "\n",
      " Min row array1: \n",
      " [3 2 2 4]\n",
      "[[3]\n",
      " [2]\n",
      " [2]\n",
      " [4]]\n",
      "Final random array 1 with min column and max row : \n",
      " [[4 3 4 9 3]\n",
      " [5 2 4 4 2]\n",
      " [5 8 4 2 2]\n",
      " [5 8 4 9 4]] \n",
      " with size :  (4, 5)\n",
      "\n",
      " Random array 2 : \n",
      " [[11 17 17 19]\n",
      " [14 11 18 14]\n",
      " [16 13 10 16]]\n",
      "\n",
      " Max row array2: \n",
      " [16 17 18 19]\n",
      "\n",
      " New Random array 2 : \n",
      " [[11 17 17 19]\n",
      " [14 11 18 14]\n",
      " [16 13 10 16]\n",
      " [16 17 18 19]]\n",
      "\n",
      " Min row array1: \n",
      " [11 11 10 16]\n",
      "[[11]\n",
      " [11]\n",
      " [10]\n",
      " [16]]\n",
      "Final random array 2 with min column and max row : \n",
      " [[11 17 17 19 11]\n",
      " [14 11 18 14 11]\n",
      " [16 13 10 16 10]\n",
      " [16 17 18 19 16]] \n",
      " with size :  (4, 5)\n",
      "\n",
      " \n",
      " concatenate_array : \n",
      "  [[ 4  3  4  9  3]\n",
      " [ 5  2  4  4  2]\n",
      " [ 5  8  4  2  2]\n",
      " [ 5  8  4  9  4]\n",
      " [11 17 17 19 11]\n",
      " [14 11 18 14 11]\n",
      " [16 13 10 16 10]\n",
      " [16 17 18 19 16]]\n",
      "[[4 3 4 9 3]]\n",
      "[76 79 79 92 59]\n",
      "[[ 4  3  4  9  3]\n",
      " [ 5  2  4  4  2]\n",
      " [ 5  8  4  2  2]\n",
      " [ 5  8  4  9  4]\n",
      " [11 17 17 19 11]\n",
      " [14 11 18 14 11]\n",
      " [16 13 10 16 10]\n",
      " [16 17 18 19 16]\n",
      " [76 79 79 92 59]]\n",
      "[[23]\n",
      " [17]\n",
      " [21]\n",
      " [30]\n",
      " [75]\n",
      " [68]\n",
      " [65]\n",
      " [86]\n",
      " [ 0]]\n",
      "Final concat array  with sum of column and  row : \n",
      " [[ 4  3  4  9  3 23]\n",
      " [ 5  2  4  4  2 17]\n",
      " [ 5  8  4  2  2 21]\n",
      " [ 5  8  4  9  4 30]\n",
      " [11 17 17 19 11 75]\n",
      " [14 11 18 14 11 68]\n",
      " [16 13 10 16 10 65]\n",
      " [16 17 18 19 16 86]\n",
      " [76 79 79 92 59  0]] \n",
      " with size :  (9, 6)\n"
     ]
    }
   ],
   "source": [
    "random_array_1 = np.random.randint(1,10,[3,4])\n",
    "random_array_2 = np.random.randint(10,20,[3,4])\n",
    "\n",
    "\n",
    "print(\"\\n Random array 1 : \\n\", random_array_1)\n",
    "\n",
    "    \n",
    "##Random Array 01 functions \n",
    "max1 = np.max(random_array_1[:3,:1])\n",
    "max2 = np.max(random_array_1[:3,1:2])\n",
    "max3 = np.max(random_array_1[:3,2:3])\n",
    "max4 = np.max(random_array_1[:3,3:4])\n",
    "\n",
    "max_row  = np.array([max1, max2, max3, max4])\n",
    "\n",
    "print(\"\\n Max row array1: \\n\", max_row) \n",
    "new_random_array_1 = np.vstack([random_array_1, max_row])\n",
    "\n",
    "print(\"\\n New Random array 1 : \\n\", new_random_array_1)\n",
    "\n",
    "min1 = np.min(new_random_array_1[:1,:4])\n",
    "min2 = np.min(new_random_array_1[1:2,:4])\n",
    "min3 = np.min(new_random_array_1[2:3,:4])\n",
    "min4 = np.min(new_random_array_1[3:4,:4])\n",
    "              \n",
    "min_row  = np.array([min1, min2, min3, min4])\n",
    "print(\"\\n Min row array1: \\n\", min_row)\n",
    "\n",
    "min_col = min_row.reshape(4,1)\n",
    "print(min_col)\n",
    "\n",
    "new_random_array_1 = np.hstack([new_random_array_1, min_col])\n",
    "\n",
    "print(\"Final random array 1 with min column and max row : \\n\", new_random_array_1, \"\\n with size : \", new_random_array_1.shape)\n",
    "\n",
    "##Random Array 02 functions \n",
    "print(\"\\n Random array 2 : \\n\", random_array_2)\n",
    "max1_2 = np.max(random_array_2[:3,:1])\n",
    "max2_2 = np.max(random_array_2[:3,1:2])\n",
    "max3_2 = np.max(random_array_2[:3,2:3])\n",
    "max4_2 = np.max(random_array_2[:3,3:4])\n",
    "\n",
    "max_2row  = np.array([max1_2, max2_2, max3_2, max4_2])\n",
    "\n",
    "print(\"\\n Max row array2: \\n\", max_2row) \n",
    "new_random_array_2 = np.vstack([random_array_2, max_2row])\n",
    "\n",
    "print(\"\\n New Random array 2 : \\n\", new_random_array_2)\n",
    "\n",
    "min1_2 = np.min(new_random_array_2[:1,:4])\n",
    "min2_2 = np.min(new_random_array_2[1:2,:4])\n",
    "min3_2 = np.min(new_random_array_2[2:3,:4])\n",
    "min4_2 = np.min(new_random_array_2[3:4,:4])\n",
    "              \n",
    "min_2row  = np.array([min1_2, min2_2, min3_2, min4_2])\n",
    "print(\"\\n Min row array1: \\n\", min_2row)\n",
    "\n",
    "min_2col = min_2row.reshape(4,1)\n",
    "print(min_2col)\n",
    "\n",
    "new_random_array_2 = np.hstack([new_random_array_2, min_2col])\n",
    "\n",
    "print(\"Final random array 2 with min column and max row : \\n\", new_random_array_2, \"\\n with size : \", new_random_array_2.shape)\n",
    "\n",
    "\n",
    "concat_array = np.concatenate([new_random_array_1, new_random_array_2])\n",
    "print(\"\\n \\n concatenate_array : \\n \", concat_array)\n",
    "\n",
    "\n",
    "sum1 = np.sum(concat_array[:,:1])\n",
    "sum2 = np.sum(concat_array[:,1:2])\n",
    "sum3 = np.sum(concat_array[:,2:3])\n",
    "sum4 = np.sum(concat_array[:,3:4])\n",
    "sum5 = np.sum(concat_array[:,4:5])\n",
    "print(concat_array[:1,:])             \n",
    "sum_row  = np.array([sum1, sum2, sum3, sum4, sum5])\n",
    "print(sum_row)\n",
    "\n",
    "sum_concat_array = np.vstack([concat_array, sum_row])\n",
    "\n",
    "print(sum_concat_array)\n",
    "\n",
    "sum1_2 = np.sum(concat_array[:1,:])\n",
    "sum2_2 = np.sum(concat_array[1:2,:])\n",
    "sum3_2 = np.sum(concat_array[2:3,:])\n",
    "sum4_2 = np.sum(concat_array[3:4,:])\n",
    "sum5_2 = np.sum(concat_array[4:5:])\n",
    "sum6_2 = np.sum(concat_array[5:6,:])\n",
    "sum7_2 = np.sum(concat_array[6:7,:])\n",
    "sum8_2 = np.sum(concat_array[7:8,:])\n",
    "sum9_2 = np.sum(concat_array[8:9,:])\n",
    "# sum10_2 = np.sum(concat_array[9:10,:])\n",
    "\n",
    "sum_row  = np.array([sum1_2, sum2_2, sum3_2, sum4_2, sum5_2, sum6_2, sum7_2, sum8_2, sum9_2])\n",
    "\n",
    "\n",
    "sum_col = sum_row.reshape(9,1)\n",
    "\n",
    "print(sum_col)\n",
    "\n",
    "\n",
    "sum_concat_array = np.hstack([sum_concat_array, sum_col])\n",
    "\n",
    "print(\"Final concat array  with sum of column and  row : \\n\", sum_concat_array, \"\\n with size : \", sum_concat_array.shape)\n",
    "\n",
    "\n"
   ]
  },
  {
   "cell_type": "markdown",
   "metadata": {},
   "source": [
    "7. Create function, that can calculate cartesian product between two arrays."
   ]
  },
  {
   "cell_type": "code",
   "execution_count": null,
   "metadata": {},
   "outputs": [],
   "source": []
  }
 ],
 "metadata": {
  "kernelspec": {
   "display_name": "Python 3 (ipykernel)",
   "language": "python",
   "name": "python3"
  },
  "language_info": {
   "codemirror_mode": {
    "name": "ipython",
    "version": 3
   },
   "file_extension": ".py",
   "mimetype": "text/x-python",
   "name": "python",
   "nbconvert_exporter": "python",
   "pygments_lexer": "ipython3",
   "version": "3.10.6"
  }
 },
 "nbformat": 4,
 "nbformat_minor": 4
}

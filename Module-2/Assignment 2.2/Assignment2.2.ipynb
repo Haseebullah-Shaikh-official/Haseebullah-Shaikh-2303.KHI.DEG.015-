{
 "cells": [
  {
   "cell_type": "code",
   "execution_count": 1,
   "id": "7acad409-7827-4b53-9273-3518f1520924",
   "metadata": {
    "tags": []
   },
   "outputs": [
    {
     "name": "stdout",
     "output_type": "stream",
     "text": [
      "[[4 8 6 7]\n",
      " [4 8 5 8]\n",
      " [3 6 8 3]\n",
      " [4 6 7 5]\n",
      " [9 9 8 4]\n",
      " [1 9 1 5]]\n"
     ]
    }
   ],
   "source": [
    "import numpy as np\n",
    "\n",
    "random_matrix = np.random.randint(1, 10, [6,4])\n",
    "print(random_matrix)"
   ]
  },
  {
   "cell_type": "code",
   "execution_count": 2,
   "id": "d719aff7-23d9-41ee-bc79-4ba40b748a18",
   "metadata": {
    "tags": []
   },
   "outputs": [
    {
     "name": "stdout",
     "output_type": "stream",
     "text": [
      "[[ 4  8  6  7]\n",
      " [ 4  8  5  8]\n",
      " [ 3  6  8  3]\n",
      " [ 4  6  7  5]\n",
      " [ 7 14 14 10]\n",
      " [ 1  9  1  5]]\n"
     ]
    }
   ],
   "source": [
    "random_matrix[4:5] = np.add(random_matrix[0:1], random_matrix[2:3])\n",
    "print(random_matrix)"
   ]
  },
  {
   "cell_type": "code",
   "execution_count": 3,
   "id": "891b15a1-ada2-4957-a08f-e6b678d1d68c",
   "metadata": {
    "tags": []
   },
   "outputs": [
    {
     "name": "stdout",
     "output_type": "stream",
     "text": [
      "[[ 4  8  6  7]\n",
      " [ 4  8  5  8]\n",
      " [ 3  6  8  3]\n",
      " [ 4  6  7  5]\n",
      " [ 7 14 14 10]\n",
      " [ 8 14 12 13]]\n"
     ]
    }
   ],
   "source": [
    "random_matrix[5:6] = np.add(random_matrix[1:2], random_matrix[3:4])\n",
    "print(random_matrix)"
   ]
  },
  {
   "cell_type": "code",
   "execution_count": null,
   "id": "52832f0d-7bd8-4439-a2a6-f349956ebf3c",
   "metadata": {},
   "outputs": [],
   "source": []
  }
 ],
 "metadata": {
  "kernelspec": {
   "display_name": "Python 3 (ipykernel)",
   "language": "python",
   "name": "python3"
  },
  "language_info": {
   "codemirror_mode": {
    "name": "ipython",
    "version": 3
   },
   "file_extension": ".py",
   "mimetype": "text/x-python",
   "name": "python",
   "nbconvert_exporter": "python",
   "pygments_lexer": "ipython3",
   "version": "3.10.6"
  }
 },
 "nbformat": 4,
 "nbformat_minor": 5
}

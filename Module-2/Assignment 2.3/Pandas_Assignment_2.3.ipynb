{
 "cells": [
  {
   "cell_type": "markdown",
   "id": "f7e283b3-dcec-476d-a057-3dd1c6b7887a",
   "metadata": {},
   "source": [
    "#### Import Pandas"
   ]
  },
  {
   "cell_type": "code",
   "execution_count": 1,
   "id": "720af158-dadb-43b2-b97b-8c686ec9062a",
   "metadata": {
    "tags": []
   },
   "outputs": [],
   "source": [
    "import pandas as pd"
   ]
  },
  {
   "cell_type": "markdown",
   "id": "14a0cc19-bf81-4368-8515-5c99b4623acc",
   "metadata": {},
   "source": [
    "#### Reading Iris dataset and converting it into data frame, checking if there is null value "
   ]
  },
  {
   "cell_type": "code",
   "execution_count": 2,
   "id": "3c0e439b-5532-472d-aed8-fab9d7d9b470",
   "metadata": {
    "tags": []
   },
   "outputs": [
    {
     "data": {
      "text/plain": [
       "Id               0\n",
       "SepalLengthCm    0\n",
       "SepalWidthCm     0\n",
       "PetalLengthCm    0\n",
       "PetalWidthCm     0\n",
       "Species          0\n",
       "dtype: int64"
      ]
     },
     "execution_count": 2,
     "metadata": {},
     "output_type": "execute_result"
    }
   ],
   "source": [
    "df = pd.read_csv(\"Iris.csv\")\n",
    "\n",
    "df.isna().sum()\n"
   ]
  },
  {
   "cell_type": "markdown",
   "id": "52465f22-131b-4458-b256-205ce26c6d1d",
   "metadata": {},
   "source": [
    "#### Finding unique secies "
   ]
  },
  {
   "cell_type": "code",
   "execution_count": 3,
   "id": "b51986c5-2f32-4a04-9622-6ecde348a7be",
   "metadata": {
    "tags": []
   },
   "outputs": [
    {
     "data": {
      "text/plain": [
       "array(['Iris-setosa', 'Iris-versicolor', 'Iris-virginica'], dtype=object)"
      ]
     },
     "execution_count": 3,
     "metadata": {},
     "output_type": "execute_result"
    }
   ],
   "source": [
    "df.Species.unique()"
   ]
  },
  {
   "cell_type": "markdown",
   "id": "b5efdd6d-169e-4ff7-924d-200582d7909a",
   "metadata": {},
   "source": [
    "#### Creating different dataframe for different species"
   ]
  },
  {
   "cell_type": "code",
   "execution_count": 4,
   "id": "a6f346bd-031e-49bc-a51c-3440ba36c01c",
   "metadata": {
    "tags": []
   },
   "outputs": [],
   "source": [
    "df_Iris_setosa =  df[df[\"Species\"] == \"Iris-setosa\"]\n",
    "df_Iris_virginica = df[df[\"Species\"] == \"Iris-virginica\"]\n",
    "df_Iris_versicolor = df[df[\"Species\"] == \"Iris-versicolor\"]"
   ]
  },
  {
   "cell_type": "markdown",
   "id": "ba919198-2fc4-4ab5-8624-0293592ae305",
   "metadata": {},
   "source": [
    "#### Prinitng mean for each species"
   ]
  },
  {
   "cell_type": "code",
   "execution_count": 5,
   "id": "765a550e-bac6-48df-bc44-e76b549b7c4c",
   "metadata": {
    "tags": []
   },
   "outputs": [
    {
     "name": "stdout",
     "output_type": "stream",
     "text": [
      "Mean Sepal Length for Iris-setosa :  5.006\n",
      "Mean Sepal Length for Iris-virginica :  6.587999999999998\n",
      "Mean Sepal Length for Iris-versicolor :  5.936\n"
     ]
    }
   ],
   "source": [
    "print(\"Mean Sepal Length for Iris-setosa : \", df_Iris_setosa.SepalLengthCm.mean())\n",
    "print(\"Mean Sepal Length for Iris-virginica : \", df_Iris_virginica.SepalLengthCm.mean())\n",
    "print(\"Mean Sepal Length for Iris-versicolor : \", df_Iris_versicolor.SepalLengthCm.mean())"
   ]
  }
 ],
 "metadata": {
  "kernelspec": {
   "display_name": "Python 3 (ipykernel)",
   "language": "python",
   "name": "python3"
  },
  "language_info": {
   "codemirror_mode": {
    "name": "ipython",
    "version": 3
   },
   "file_extension": ".py",
   "mimetype": "text/x-python",
   "name": "python",
   "nbconvert_exporter": "python",
   "pygments_lexer": "ipython3",
   "version": "3.10.6"
  }
 },
 "nbformat": 4,
 "nbformat_minor": 5
}

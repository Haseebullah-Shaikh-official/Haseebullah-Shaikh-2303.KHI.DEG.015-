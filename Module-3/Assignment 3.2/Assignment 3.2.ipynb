{
 "cells": [
  {
   "cell_type": "code",
   "execution_count": 1,
   "id": "9e1f81c5",
   "metadata": {},
   "outputs": [],
   "source": [
    "from sklearn.ensemble import RandomForestClassifier\n",
    "from sklearn.neighbors import KNeighborsClassifier\n",
    "from sklearn import datasets\n",
    "from sklearn.metrics import f1_score  \n",
    "from sklearn.model_selection import train_test_split\n",
    "from sklearn.preprocessing import StandardScaler"
   ]
  },
  {
   "cell_type": "code",
   "execution_count": 2,
   "id": "b3ab6dc8",
   "metadata": {},
   "outputs": [],
   "source": [
    "wine_x, wine_y = datasets.load_wine(return_X_y=True)"
   ]
  },
  {
   "cell_type": "markdown",
   "id": "4825d2d7",
   "metadata": {},
   "source": [
    "#### There are 13 feautures, I am using six of them to train the model"
   ]
  },
  {
   "cell_type": "code",
   "execution_count": 3,
   "id": "867f79f9",
   "metadata": {},
   "outputs": [
    {
     "data": {
      "text/plain": [
       "(178, 13)"
      ]
     },
     "execution_count": 3,
     "metadata": {},
     "output_type": "execute_result"
    }
   ],
   "source": [
    "wine_x.shape "
   ]
  },
  {
   "cell_type": "code",
   "execution_count": 4,
   "id": "d1bd2533",
   "metadata": {},
   "outputs": [],
   "source": [
    "wine_x = wine_x[:,:6]"
   ]
  },
  {
   "cell_type": "code",
   "execution_count": 5,
   "id": "d2bc0087",
   "metadata": {
    "scrolled": true
   },
   "outputs": [
    {
     "data": {
      "text/plain": [
       "(178, 6)"
      ]
     },
     "execution_count": 5,
     "metadata": {},
     "output_type": "execute_result"
    }
   ],
   "source": [
    "wine_x.shape"
   ]
  },
  {
   "cell_type": "markdown",
   "id": "ae437dc5",
   "metadata": {},
   "source": [
    "#### Spliting dataset into 80/20"
   ]
  },
  {
   "cell_type": "code",
   "execution_count": 6,
   "id": "29fc1802",
   "metadata": {},
   "outputs": [],
   "source": [
    "x_train, x_test, y_train, y_test = train_test_split(wine_x, wine_y, test_size=0.2)"
   ]
  },
  {
   "cell_type": "markdown",
   "id": "aac9fec1",
   "metadata": {},
   "source": [
    "### Implementing Random Forest"
   ]
  },
  {
   "cell_type": "code",
   "execution_count": 7,
   "id": "4d381f4c",
   "metadata": {},
   "outputs": [
    {
     "data": {
      "text/plain": [
       "0.8888888888888888"
      ]
     },
     "execution_count": 7,
     "metadata": {},
     "output_type": "execute_result"
    }
   ],
   "source": [
    "rfc_model = RandomForestClassifier()\n",
    "rfc_model.fit(x_train, y_train)\n",
    "y_pred = rfc_model.predict(x_test)\n",
    "\n",
    "f1_score(y_test, y_pred, average=\"micro\")"
   ]
  },
  {
   "cell_type": "markdown",
   "id": "7333e6a3",
   "metadata": {},
   "source": [
    "### Implementing K means"
   ]
  },
  {
   "cell_type": "code",
   "execution_count": 8,
   "id": "d8a2695e",
   "metadata": {},
   "outputs": [
    {
     "data": {
      "text/plain": [
       "0.6388888888888888"
      ]
     },
     "execution_count": 8,
     "metadata": {},
     "output_type": "execute_result"
    }
   ],
   "source": [
    "km_model = KNeighborsClassifier()\n",
    "km_model.fit(x_train, y_train)\n",
    "y_pred = km_model.predict(x_test)\n",
    "f1_score(y_test, y_pred, average=\"micro\")"
   ]
  },
  {
   "cell_type": "markdown",
   "id": "554d6509",
   "metadata": {},
   "source": [
    "#### Since K means is giving less f1 score than 80%, training the model again after scaling."
   ]
  },
  {
   "cell_type": "code",
   "execution_count": 9,
   "id": "593439b4",
   "metadata": {},
   "outputs": [],
   "source": [
    "scaler = StandardScaler()\n",
    "x_train = scaler.fit_transform(x_train)\n",
    "x_test = scaler.transform(x_test)"
   ]
  },
  {
   "cell_type": "code",
   "execution_count": 10,
   "id": "82cef965",
   "metadata": {},
   "outputs": [
    {
     "data": {
      "text/plain": [
       "0.8611111111111112"
      ]
     },
     "execution_count": 10,
     "metadata": {},
     "output_type": "execute_result"
    }
   ],
   "source": [
    "km_model = KNeighborsClassifier()\n",
    "km_model.fit(x_train, y_train)\n",
    "y_pred = km_model.predict(x_test)\n",
    "f1_score(y_test, y_pred, average=\"micro\")"
   ]
  },
  {
   "cell_type": "markdown",
   "id": "90541c25",
   "metadata": {},
   "source": [
    "### Random forest is still giving good results than K means :) "
   ]
  }
 ],
 "metadata": {
  "kernelspec": {
   "display_name": "Python 3 (ipykernel)",
   "language": "python",
   "name": "python3"
  },
  "language_info": {
   "codemirror_mode": {
    "name": "ipython",
    "version": 3
   },
   "file_extension": ".py",
   "mimetype": "text/x-python",
   "name": "python",
   "nbconvert_exporter": "python",
   "pygments_lexer": "ipython3",
   "version": "3.8.8"
  }
 },
 "nbformat": 4,
 "nbformat_minor": 5
}
